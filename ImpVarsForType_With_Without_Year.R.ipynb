{
 "cells": [
  {
   "cell_type": "code",
   "execution_count": 1,
   "metadata": {},
   "outputs": [
    {
     "name": "stderr",
     "output_type": "stream",
     "text": [
      "Warning message:\n",
      "\"package 'dplyr' was built under R version 3.5.2\"\n",
      "Attaching package: 'dplyr'\n",
      "\n",
      "The following objects are masked from 'package:stats':\n",
      "\n",
      "    filter, lag\n",
      "\n",
      "The following objects are masked from 'package:base':\n",
      "\n",
      "    intersect, setdiff, setequal, union\n",
      "\n",
      "Loading required package: ranger\n",
      "Warning message:\n",
      "\"package 'partykit' was built under R version 3.5.2\"Loading required package: grid\n",
      "Loading required package: libcoin\n",
      "Loading required package: mvtnorm\n",
      "Warning message:\n",
      "\"package 'caret' was built under R version 3.5.2\"Loading required package: lattice\n",
      "Loading required package: ggplot2\n",
      "Warning message:\n",
      "\"package 'party' was built under R version 3.5.2\"Loading required package: modeltools\n",
      "Loading required package: stats4\n",
      "Loading required package: strucchange\n",
      "Loading required package: zoo\n",
      "\n",
      "Attaching package: 'zoo'\n",
      "\n",
      "The following objects are masked from 'package:base':\n",
      "\n",
      "    as.Date, as.Date.numeric\n",
      "\n",
      "Loading required package: sandwich\n",
      "\n",
      "Attaching package: 'party'\n",
      "\n",
      "The following objects are masked from 'package:partykit':\n",
      "\n",
      "    cforest, ctree, ctree_control, edge_simple, mob, mob_control,\n",
      "    node_barplot, node_bivplot, node_boxplot, node_inner, node_surv,\n",
      "    node_terminal, varimp\n",
      "\n"
     ]
    }
   ],
   "source": [
    "# Calling all the libraries that we are going to use here #\n",
    "library(dplyr)\n",
    "library(Boruta)\n",
    "library(partykit)\n",
    "library(caret)\n",
    "library(party)"
   ]
  },
  {
   "cell_type": "code",
   "execution_count": 2,
   "metadata": {},
   "outputs": [],
   "source": [
    "# Importing the DataSet \"realestate.derived\" #\n",
    "re.imp<-read.csv(\"F:\\\\melb.realstate.all.files\\\\InputDatasets\\\\realestate.derived.csv\", header = T ,stringsAsFactors = T, sep = ',', strip.white = TRUE, na.strings = \"\")\n",
    "## Excluding Address, Date, Latt, Longt & Price.bucket ##\n",
    "re.imp<-re.imp[,-c(2,8,18,19,22)] \n"
   ]
  },
  {
   "cell_type": "code",
   "execution_count": 3,
   "metadata": {},
   "outputs": [],
   "source": [
    "# Coverting var into categoricals #\n",
    "re.imp$Rooms<-as.factor(re.imp$Rooms)\n",
    "re.imp$Type<-as.factor(re.imp$Type)\n",
    "re.imp$Bedroom2<-as.factor(re.imp$Bedroom2)\n",
    "re.imp$Bathroom<-as.factor(re.imp$Bathroom)\n",
    "re.imp$Car<-as.factor(re.imp$Car)\n",
    "re.imp$YearBuilt<-as.factor(re.imp$YearBuilt)\n"
   ]
  },
  {
   "cell_type": "code",
   "execution_count": 5,
   "metadata": {},
   "outputs": [],
   "source": [
    "# Importing Dataset \"realestate.derived.without.year\"\n",
    "re.imp.noyear<-read.csv(\"F:\\\\melb.realstate.all.files\\\\InputDatasets\\\\realestate.derived.without.year.csv\", header = T ,stringsAsFactors = T, sep = ',', strip.white = TRUE, na.strings = \"\")\n",
    "## Excluding Address, Date, Latt, Longt & Price.bucket ##\n",
    "re.imp.noyear<-re.imp.noyear[,-c(2,8,17,18,21)] \n"
   ]
  },
  {
   "cell_type": "code",
   "execution_count": 6,
   "metadata": {},
   "outputs": [],
   "source": [
    "# Coverting var into categoricals #\n",
    "re.imp.noyear$Rooms<-as.factor(re.imp.noyear$Rooms)\n",
    "re.imp.noyear$Type<-as.factor(re.imp.noyear$Type)\n",
    "re.imp.noyear$Bedroom2<-as.factor(re.imp.noyear$Bedroom2)\n",
    "re.imp.noyear$Bathroom<-as.factor(re.imp.noyear$Bathroom)\n",
    "re.imp.noyear$Car<-as.factor(re.imp.noyear$Car)"
   ]
  },
  {
   "cell_type": "code",
   "execution_count": 7,
   "metadata": {},
   "outputs": [
    {
     "name": "stderr",
     "output_type": "stream",
     "text": [
      " 1. run of importance source...\n",
      " 2. run of importance source...\n",
      " 3. run of importance source...\n",
      " 4. run of importance source...\n",
      " 5. run of importance source...\n",
      " 6. run of importance source...\n",
      " 7. run of importance source...\n",
      " 8. run of importance source...\n",
      " 9. run of importance source...\n",
      " 10. run of importance source...\n",
      " 11. run of importance source...\n",
      "After 11 iterations, +59 secs: \n",
      " confirmed 15 attributes: Bathroom, Bedroom2, BuildingArea, Car, CouncilArea and 10 more;\n",
      " rejected 1 attribute: Months;\n",
      " still have 1 attribute left.\n",
      "\n",
      " 12. run of importance source...\n",
      " 13. run of importance source...\n",
      " 14. run of importance source...\n",
      " 15. run of importance source...\n",
      " 16. run of importance source...\n",
      " 17. run of importance source...\n",
      " 18. run of importance source...\n",
      " 19. run of importance source...\n",
      " 20. run of importance source...\n",
      " 21. run of importance source...\n",
      " 22. run of importance source...\n",
      " 23. run of importance source...\n",
      " 24. run of importance source...\n",
      " 25. run of importance source...\n",
      " 26. run of importance source...\n",
      " 27. run of importance source...\n",
      " 28. run of importance source...\n",
      "After 28 iterations, +2.5 mins: \n",
      " rejected 1 attribute: Method;\n",
      " no more attributes left.\n",
      "\n"
     ]
    },
    {
     "name": "stdout",
     "output_type": "stream",
     "text": [
      "Boruta performed 28 iterations in 2.480156 mins.\n",
      " 15 attributes confirmed important: Bathroom, Bedroom2, BuildingArea,\n",
      "Car, CouncilArea and 10 more;\n",
      " 2 attributes confirmed unimportant: Method, Months;\n"
     ]
    }
   ],
   "source": [
    "# Applying Boruta on with year Dataset #\n",
    "boruta.re.imp<-Boruta(Type~.,data = re.imp,doTrace=2)\n",
    "print(boruta.re.imp)"
   ]
  },
  {
   "cell_type": "code",
   "execution_count": 9,
   "metadata": {},
   "outputs": [
    {
     "name": "stderr",
     "output_type": "stream",
     "text": [
      " 1. run of importance source...\n",
      " 2. run of importance source...\n",
      " 3. run of importance source...\n",
      " 4. run of importance source...\n",
      " 5. run of importance source...\n",
      " 6. run of importance source...\n",
      " 7. run of importance source...\n",
      " 8. run of importance source...\n",
      " 9. run of importance source...\n",
      " 10. run of importance source...\n",
      " 11. run of importance source...\n",
      "After 11 iterations, +1.9 mins: \n",
      " confirmed 15 attributes: Bathroom, Bedroom2, BuildingArea, Car, CouncilArea and 10 more;\n",
      " still have 1 attribute left.\n",
      "\n",
      " 12. run of importance source...\n",
      " 13. run of importance source...\n",
      " 14. run of importance source...\n",
      " 15. run of importance source...\n",
      " 16. run of importance source...\n",
      " 17. run of importance source...\n",
      " 18. run of importance source...\n",
      " 19. run of importance source...\n",
      " 20. run of importance source...\n",
      " 21. run of importance source...\n",
      " 22. run of importance source...\n",
      " 23. run of importance source...\n",
      " 24. run of importance source...\n",
      " 25. run of importance source...\n",
      " 26. run of importance source...\n",
      " 27. run of importance source...\n",
      " 28. run of importance source...\n",
      " 29. run of importance source...\n",
      " 30. run of importance source...\n",
      " 31. run of importance source...\n",
      " 32. run of importance source...\n",
      " 33. run of importance source...\n",
      " 34. run of importance source...\n",
      " 35. run of importance source...\n",
      " 36. run of importance source...\n",
      " 37. run of importance source...\n",
      " 38. run of importance source...\n",
      " 39. run of importance source...\n",
      " 40. run of importance source...\n",
      " 41. run of importance source...\n",
      " 42. run of importance source...\n",
      " 43. run of importance source...\n",
      " 44. run of importance source...\n",
      " 45. run of importance source...\n",
      " 46. run of importance source...\n",
      " 47. run of importance source...\n",
      " 48. run of importance source...\n",
      " 49. run of importance source...\n",
      " 50. run of importance source...\n",
      " 51. run of importance source...\n",
      " 52. run of importance source...\n",
      " 53. run of importance source...\n",
      " 54. run of importance source...\n",
      " 55. run of importance source...\n",
      " 56. run of importance source...\n",
      " 57. run of importance source...\n",
      " 58. run of importance source...\n",
      " 59. run of importance source...\n",
      " 60. run of importance source...\n",
      " 61. run of importance source...\n",
      " 62. run of importance source...\n",
      " 63. run of importance source...\n",
      " 64. run of importance source...\n",
      " 65. run of importance source...\n",
      " 66. run of importance source...\n",
      " 67. run of importance source...\n",
      " 68. run of importance source...\n",
      " 69. run of importance source...\n",
      " 70. run of importance source...\n",
      "After 70 iterations, +12 mins: \n",
      " rejected 1 attribute: Months;\n",
      " no more attributes left.\n",
      "\n"
     ]
    },
    {
     "name": "stdout",
     "output_type": "stream",
     "text": [
      "Boruta performed 70 iterations in 12.22927 mins.\n",
      " 15 attributes confirmed important: Bathroom, Bedroom2, BuildingArea,\n",
      "Car, CouncilArea and 10 more;\n",
      " 1 attributes confirmed unimportant: Months;\n"
     ]
    }
   ],
   "source": [
    "# Applying Boruta on without year Dataset # \n",
    "boruta.re.imp.noyear<-Boruta(Type~.,data = re.imp.noyear,doTrace=2)\n",
    "print(boruta.re.imp.noyear)"
   ]
  },
  {
   "cell_type": "code",
   "execution_count": 10,
   "metadata": {},
   "outputs": [],
   "source": [
    "## Removing Months due to no significance on Type ##, Method is also there need to ask abhilash??????????\n",
    "re.imp<-re.imp[,-18]\n",
    "## Coverting Type into numeric to perform Cforest as it won't work for categorical var ##\n",
    "re.imp$Type<-as.numeric((re.imp$Type))\n"
   ]
  },
  {
   "cell_type": "code",
   "execution_count": 12,
   "metadata": {},
   "outputs": [],
   "source": [
    "## Applying Cforest on with year Dataset ##\n",
    "re.imp.rf<-party::cforest(Type~. ,data = re.imp, control=cforest_unbiased(mtry=16,ntree=200))\n",
    "impvars.re.imp<-varImp(re.imp.rf)"
   ]
  },
  {
   "cell_type": "code",
   "execution_count": 13,
   "metadata": {},
   "outputs": [],
   "source": [
    "## Removing Months due to no significance on Type in noyear dataset ##\n",
    "re.imp.noyear<-re.imp.noyear[,-17]\n",
    "## Coverting Type into numeric to perform Cforest as it won't work for categorical var ##\n",
    "re.imp.noyear$Type<-as.numeric((re.imp.noyear$Type))\n"
   ]
  },
  {
   "cell_type": "code",
   "execution_count": 14,
   "metadata": {},
   "outputs": [],
   "source": [
    "## Applying Cforext on without year Dataset ##\n",
    "re.imp.noyear.rf<-party::cforest(Type~. ,data = re.imp.noyear, control=cforest_unbiased(mtry=15,ntree=200))\n",
    "impvars.re.imp.noyear<-varImp(re.imp.noyear.rf)"
   ]
  },
  {
   "cell_type": "code",
   "execution_count": 16,
   "metadata": {},
   "outputs": [
    {
     "name": "stdout",
     "output_type": "stream",
     "text": [
      "                  Overall\n",
      "Suburb       0.0072240599\n",
      "Rooms        0.0811592150\n",
      "Price        0.0497403942\n",
      "Method       0.0002773736\n",
      "SellerG      0.0027457668\n",
      "Distance     0.0110798505\n",
      "Postcode     0.0136725025\n",
      "Bedroom2     0.0004855075\n",
      "Bathroom     0.0002115330\n",
      "Car          0.0023203637\n",
      "Landsize     0.0543711373\n",
      "BuildingArea 0.0747819638\n",
      "YearBuilt    0.2150655310\n",
      "CouncilArea  0.0124388873\n",
      "Days.diff    0.0022295001\n",
      "Dist.bucket  0.0054649942\n"
     ]
    }
   ],
   "source": [
    "print(impvars.re.imp)"
   ]
  },
  {
   "cell_type": "code",
   "execution_count": 17,
   "metadata": {},
   "outputs": [
    {
     "name": "stdout",
     "output_type": "stream",
     "text": [
      "                  Overall\n",
      "Suburb       7.929975e-02\n",
      "Rooms        9.569120e-02\n",
      "Price        1.322236e-01\n",
      "Method       2.164902e-06\n",
      "SellerG      1.923561e-03\n",
      "Distance     1.487230e-02\n",
      "Postcode     1.012932e-02\n",
      "Bedroom2     1.767188e-03\n",
      "Bathroom     2.587204e-02\n",
      "Car          5.658314e-03\n",
      "Landsize     5.491841e-02\n",
      "BuildingArea 1.166080e-01\n",
      "CouncilArea  1.660685e-02\n",
      "Days.diff    2.467161e-03\n",
      "Dist.bucket  5.125951e-03\n"
     ]
    }
   ],
   "source": [
    "print(impvars.re.imp.noyear)"
   ]
  },
  {
   "cell_type": "code",
   "execution_count": 18,
   "metadata": {},
   "outputs": [],
   "source": [
    "write.table(impvars.re.imp, file = \"F:\\\\melb.realstate.all.files\\\\OutputDataSets\\\\ImpVarsForType_withyear.csv\",row.names=T, na=\"\",col.names=T, sep=\",\")\n"
   ]
  },
  {
   "cell_type": "code",
   "execution_count": 19,
   "metadata": {},
   "outputs": [],
   "source": [
    "write.table(impvars.re.imp.noyear, file = \"F:\\\\melb.realstate.all.files\\\\OutputDataSets\\\\ImpVarsForType_withoutyear.csv\",row.names=T, na=\"\",col.names=T, sep=\",\")\n"
   ]
  },
  {
   "cell_type": "code",
   "execution_count": null,
   "metadata": {},
   "outputs": [],
   "source": []
  }
 ],
 "metadata": {
  "kernelspec": {
   "display_name": "R",
   "language": "R",
   "name": "ir"
  },
  "language_info": {
   "codemirror_mode": "r",
   "file_extension": ".r",
   "mimetype": "text/x-r-source",
   "name": "R",
   "pygments_lexer": "r",
   "version": "3.5.1"
  }
 },
 "nbformat": 4,
 "nbformat_minor": 2
}
