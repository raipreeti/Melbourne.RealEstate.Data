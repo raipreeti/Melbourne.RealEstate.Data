{
 "cells": [
  {
   "cell_type": "code",
   "execution_count": 1,
   "metadata": {},
   "outputs": [
    {
     "name": "stderr",
     "output_type": "stream",
     "text": [
      "Warning message:\n",
      "\"package 'dplyr' was built under R version 3.5.2\"\n",
      "Attaching package: 'dplyr'\n",
      "\n",
      "The following objects are masked from 'package:stats':\n",
      "\n",
      "    filter, lag\n",
      "\n",
      "The following objects are masked from 'package:base':\n",
      "\n",
      "    intersect, setdiff, setequal, union\n",
      "\n",
      "Loading required package: ranger\n",
      "Warning message:\n",
      "\"package 'partykit' was built under R version 3.5.2\"Loading required package: grid\n",
      "Loading required package: libcoin\n",
      "Loading required package: mvtnorm\n",
      "Warning message:\n",
      "\"package 'caret' was built under R version 3.5.2\"Loading required package: lattice\n",
      "Loading required package: ggplot2\n",
      "Warning message:\n",
      "\"package 'party' was built under R version 3.5.2\"Loading required package: modeltools\n",
      "Loading required package: stats4\n",
      "Loading required package: strucchange\n",
      "Loading required package: zoo\n",
      "\n",
      "Attaching package: 'zoo'\n",
      "\n",
      "The following objects are masked from 'package:base':\n",
      "\n",
      "    as.Date, as.Date.numeric\n",
      "\n",
      "Loading required package: sandwich\n",
      "\n",
      "Attaching package: 'party'\n",
      "\n",
      "The following objects are masked from 'package:partykit':\n",
      "\n",
      "    cforest, ctree, ctree_control, edge_simple, mob, mob_control,\n",
      "    node_barplot, node_bivplot, node_boxplot, node_inner, node_surv,\n",
      "    node_terminal, varimp\n",
      "\n"
     ]
    }
   ],
   "source": [
    "# Calling all the libraries that we are going to use here #\n",
    "library(dplyr)\n",
    "library(Boruta)\n",
    "library(partykit)\n",
    "library(caret)\n",
    "library(party)"
   ]
  },
  {
   "cell_type": "code",
   "execution_count": 2,
   "metadata": {},
   "outputs": [
    {
     "name": "stdout",
     "output_type": "stream",
     "text": [
      "'data.frame':\t8220 obs. of  17 variables:\n",
      " $ Suburb      : Factor w/ 140 levels \"Abbotsford\",\"Aberfeldie\",..: 1 1 1 1 1 1 1 1 1 1 ...\n",
      " $ Rooms       : int  2 2 3 3 4 2 3 2 3 2 ...\n",
      " $ Type        : Factor w/ 3 levels \"h\",\"t\",\"u\": 1 1 1 1 1 1 1 1 1 1 ...\n",
      " $ Price       : int  1480000 1035000 1465000 850000 1600000 941000 1876000 1636000 1000000 1097000 ...\n",
      " $ Method      : Factor w/ 5 levels \"PI\",\"S\",\"SA\",..: 2 2 4 1 5 2 2 2 2 2 ...\n",
      " $ SellerG     : Factor w/ 178 levels \"Abercromby's\",..: 18 18 18 18 111 83 111 111 83 18 ...\n",
      " $ Distance    : num  2.5 2.5 2.5 2.5 2.5 2.5 2.5 2.5 2.5 2.5 ...\n",
      " $ Postcode    : int  3067 3067 3067 3067 3067 3067 3067 3067 3067 3067 ...\n",
      " $ Bedroom2    : int  2 2 3 3 3 2 4 2 3 3 ...\n",
      " $ Bathroom    : int  1 1 2 2 1 1 2 1 1 1 ...\n",
      " $ Car         : int  1 0 0 1 2 0 0 2 1 2 ...\n",
      " $ Landsize    : num  202 156 134 94 120 ...\n",
      " $ BuildingArea: num  123 79 150 123 142 ...\n",
      " $ CouncilArea : Factor w/ 19 levels \"Banyule\",\"Bayside\",..: 19 19 19 19 19 19 19 19 19 19 ...\n",
      " $ Days.diff   : int  337 34 428 428 155 127 127 281 281 281 ...\n",
      " $ Dist.bucket : Factor w/ 5 levels \"far\",\"medium\",..: 5 5 5 5 5 5 5 5 5 5 ...\n",
      " $ Months      : Factor w/ 15 levels \"Apr'16\",\"Apr'17\",..: 4 5 10 10 9 11 11 14 14 14 ...\n"
     ]
    }
   ],
   "source": [
    "# Import DataSet #\n",
    "re.imp<-read.csv(\"F:\\\\melb.realstate.all.files\\\\OutputDataSets\\\\realestate.derived.without.year.csv\", header = T ,stringsAsFactors = T, sep = ',', strip.white = TRUE, na.strings = \"\")\n",
    "re.imp<-re.imp[,-c(2,8,17,18,21)] #Excluding Address, Date, Latt, Longt & Price.bucket\n",
    "str(re.imp)"
   ]
  },
  {
   "cell_type": "code",
   "execution_count": 3,
   "metadata": {},
   "outputs": [],
   "source": [
    "# Converting Attriutes's type as Categorical # \n",
    "re.imp$Rooms<-as.factor(re.imp$Rooms)\n",
    "re.imp$Type<-as.factor(re.imp$Type)\n",
    "re.imp$Bedroom2<-as.factor(re.imp$Bedroom2)\n",
    "re.imp$Bathroom<-as.factor(re.imp$Bathroom)\n",
    "re.imp$Car<-as.factor(re.imp$Car)"
   ]
  },
  {
   "cell_type": "code",
   "execution_count": 4,
   "metadata": {},
   "outputs": [],
   "source": [
    "# Filtering on basis of Type & removing Type col from them for further analysis #\n",
    "\n",
    "## H type ##\n",
    "re.imp.h<-filter(re.imp, Type %in% c(\"h\"))\n",
    "re.imp.h<-re.imp.h[,-3]"
   ]
  },
  {
   "cell_type": "code",
   "execution_count": 5,
   "metadata": {},
   "outputs": [],
   "source": [
    "## T type ##\n",
    "re.imp.t<-filter(re.imp, Type %in% c(\"t\"))\n",
    "re.imp.t<-re.imp.t[,-3]"
   ]
  },
  {
   "cell_type": "code",
   "execution_count": 6,
   "metadata": {},
   "outputs": [],
   "source": [
    "## U Type ##\n",
    "re.imp.u<-filter(re.imp, Type %in% c(\"u\"))\n",
    "re.imp.u<-re.imp.u[,-3]"
   ]
  },
  {
   "cell_type": "code",
   "execution_count": 7,
   "metadata": {},
   "outputs": [
    {
     "name": "stderr",
     "output_type": "stream",
     "text": [
      " 1. run of importance source...\n",
      " 2. run of importance source...\n",
      " 3. run of importance source...\n",
      " 4. run of importance source...\n",
      " 5. run of importance source...\n",
      " 6. run of importance source...\n",
      " 7. run of importance source...\n",
      " 8. run of importance source...\n",
      " 9. run of importance source...\n",
      " 10. run of importance source...\n",
      " 11. run of importance source...\n",
      "After 11 iterations, +5.2 mins: \n",
      " confirmed 14 attributes: Bathroom, Bedroom2, BuildingArea, Car, CouncilArea and 9 more;\n",
      " still have 2 attributes left.\n",
      "\n",
      " 12. run of importance source...\n",
      " 13. run of importance source...\n",
      " 14. run of importance source...\n",
      " 15. run of importance source...\n",
      " 16. run of importance source...\n",
      " 17. run of importance source...\n",
      " 18. run of importance source...\n",
      " 19. run of importance source...\n",
      " 20. run of importance source...\n",
      " 21. run of importance source...\n",
      " 22. run of importance source...\n",
      " 23. run of importance source...\n",
      " 24. run of importance source...\n",
      " 25. run of importance source...\n",
      " 26. run of importance source...\n",
      " 27. run of importance source...\n",
      " 28. run of importance source...\n",
      "After 28 iterations, +17 mins: \n",
      " rejected 1 attribute: Months;\n",
      " still have 1 attribute left.\n",
      "\n",
      " 29. run of importance source...\n",
      " 30. run of importance source...\n",
      " 31. run of importance source...\n",
      " 32. run of importance source...\n",
      " 33. run of importance source...\n",
      " 34. run of importance source...\n",
      " 35. run of importance source...\n",
      " 36. run of importance source...\n",
      " 37. run of importance source...\n",
      " 38. run of importance source...\n",
      " 39. run of importance source...\n",
      "After 39 iterations, +22 mins: \n",
      " confirmed 1 attribute: Method;\n",
      " no more attributes left.\n",
      "\n"
     ]
    },
    {
     "name": "stdout",
     "output_type": "stream",
     "text": [
      "Boruta performed 39 iterations in 22.19351 mins.\n",
      " 15 attributes confirmed important: Bathroom, Bedroom2, BuildingArea,\n",
      "Car, CouncilArea and 10 more;\n",
      " 1 attributes confirmed unimportant: Months;\n"
     ]
    }
   ],
   "source": [
    "# Applying Boruta for fnding significant variables & Random Forests to know their importance #\n",
    "\n",
    "## Aplying Boruta on whole data set with respect to Price  ##\n",
    "boruta.re.imp<-Boruta(Price~.,data = re.imp,doTrace=2)\n",
    "print(boruta.re.imp)"
   ]
  },
  {
   "cell_type": "code",
   "execution_count": 8,
   "metadata": {},
   "outputs": [],
   "source": [
    "### Removing Months since it is not that important ###\n",
    "re.imp<-re.imp[,-c(17)]      \n"
   ]
  },
  {
   "cell_type": "code",
   "execution_count": 33,
   "metadata": {},
   "outputs": [],
   "source": [
    "### After Boruta, applying Cforest On whole data set ###\n",
    "## Cforest to know the significance of each individual variable on price ##\n",
    "re.imp.rf<-party::cforest(Price~. ,data = re.imp, control=cforest_unbiased(mtry=14,ntree=200))\n",
    "impvars.re.imp<-varImp(re.imp.rf)"
   ]
  },
  {
   "cell_type": "code",
   "execution_count": 41,
   "metadata": {},
   "outputs": [
    {
     "name": "stdout",
     "output_type": "stream",
     "text": [
      "                  Overall\n",
      "Suburb       352771099916\n",
      "Rooms        119313034345\n",
      "Type          64315921164\n",
      "Method         2064104319\n",
      "SellerG        4043305286\n",
      "Distance      10687145199\n",
      "Postcode       3377712697\n",
      "Bedroom2      12588951798\n",
      "Bathroom      14024669545\n",
      "Car            1386244497\n",
      "Landsize      41449700284\n",
      "BuildingArea  10631637056\n",
      "CouncilArea   31690235697\n",
      "Days.diff      2714445420\n",
      "Dist.bucket    3438668095\n"
     ]
    }
   ],
   "source": [
    "print(impvars.re.imp)\n"
   ]
  },
  {
   "cell_type": "code",
   "execution_count": 42,
   "metadata": {},
   "outputs": [],
   "source": [
    "write.table(impvars.re.imp, file = \"F:\\\\melb.realstate.all.files\\\\OutputDataSets\\\\ImpVarsForPriceWithoutYear.csv\",row.names=T, na=\"\",col.names=T, sep=\",\")\n"
   ]
  },
  {
   "cell_type": "code",
   "execution_count": 13,
   "metadata": {},
   "outputs": [
    {
     "name": "stderr",
     "output_type": "stream",
     "text": [
      " 1. run of importance source...\n",
      " 2. run of importance source...\n",
      " 3. run of importance source...\n",
      " 4. run of importance source...\n",
      " 5. run of importance source...\n",
      " 6. run of importance source...\n",
      " 7. run of importance source...\n",
      " 8. run of importance source...\n",
      " 9. run of importance source...\n",
      " 10. run of importance source...\n",
      " 11. run of importance source...\n",
      "After 11 iterations, +2.7 mins: \n",
      " confirmed 13 attributes: Bathroom, Bedroom2, BuildingArea, Car, CouncilArea and 8 more;\n",
      " still have 2 attributes left.\n",
      "\n",
      " 12. run of importance source...\n",
      " 13. run of importance source...\n",
      " 14. run of importance source...\n",
      " 15. run of importance source...\n",
      " 16. run of importance source...\n",
      " 17. run of importance source...\n",
      " 18. run of importance source...\n",
      "After 18 iterations, +4.4 mins: \n",
      " rejected 1 attribute: Months;\n",
      " still have 1 attribute left.\n",
      "\n",
      " 19. run of importance source...\n",
      " 20. run of importance source...\n",
      " 21. run of importance source...\n",
      " 22. run of importance source...\n",
      " 23. run of importance source...\n",
      " 24. run of importance source...\n",
      " 25. run of importance source...\n",
      " 26. run of importance source...\n",
      " 27. run of importance source...\n",
      " 28. run of importance source...\n",
      " 29. run of importance source...\n",
      " 30. run of importance source...\n",
      " 31. run of importance source...\n",
      " 32. run of importance source...\n",
      " 33. run of importance source...\n",
      " 34. run of importance source...\n",
      " 35. run of importance source...\n",
      " 36. run of importance source...\n",
      " 37. run of importance source...\n",
      " 38. run of importance source...\n",
      " 39. run of importance source...\n",
      " 40. run of importance source...\n",
      " 41. run of importance source...\n",
      " 42. run of importance source...\n",
      " 43. run of importance source...\n",
      " 44. run of importance source...\n",
      " 45. run of importance source...\n",
      " 46. run of importance source...\n",
      " 47. run of importance source...\n",
      " 48. run of importance source...\n",
      " 49. run of importance source...\n",
      " 50. run of importance source...\n",
      " 51. run of importance source...\n",
      " 52. run of importance source...\n",
      " 53. run of importance source...\n",
      " 54. run of importance source...\n",
      " 55. run of importance source...\n",
      " 56. run of importance source...\n",
      " 57. run of importance source...\n",
      " 58. run of importance source...\n",
      " 59. run of importance source...\n",
      " 60. run of importance source...\n",
      " 61. run of importance source...\n",
      " 62. run of importance source...\n",
      " 63. run of importance source...\n",
      " 64. run of importance source...\n",
      " 65. run of importance source...\n",
      " 66. run of importance source...\n",
      " 67. run of importance source...\n",
      " 68. run of importance source...\n",
      " 69. run of importance source...\n",
      " 70. run of importance source...\n",
      " 71. run of importance source...\n",
      " 72. run of importance source...\n",
      " 73. run of importance source...\n",
      " 74. run of importance source...\n",
      " 75. run of importance source...\n",
      " 76. run of importance source...\n",
      " 77. run of importance source...\n",
      " 78. run of importance source...\n",
      " 79. run of importance source...\n",
      " 80. run of importance source...\n",
      " 81. run of importance source...\n",
      " 82. run of importance source...\n",
      " 83. run of importance source...\n",
      " 84. run of importance source...\n",
      " 85. run of importance source...\n",
      " 86. run of importance source...\n",
      " 87. run of importance source...\n",
      " 88. run of importance source...\n",
      " 89. run of importance source...\n",
      " 90. run of importance source...\n",
      " 91. run of importance source...\n",
      " 92. run of importance source...\n",
      " 93. run of importance source...\n",
      " 94. run of importance source...\n",
      " 95. run of importance source...\n",
      " 96. run of importance source...\n",
      " 97. run of importance source...\n",
      " 98. run of importance source...\n",
      " 99. run of importance source...\n"
     ]
    },
    {
     "name": "stdout",
     "output_type": "stream",
     "text": [
      "Boruta performed 99 iterations in 21.57867 mins.\n",
      " 13 attributes confirmed important: Bathroom, Bedroom2, BuildingArea,\n",
      "Car, CouncilArea and 8 more;\n",
      " 1 attributes confirmed unimportant: Months;\n",
      " 1 tentative attributes left: Method;\n"
     ]
    }
   ],
   "source": [
    "## Apllying Boruta for type h ##\n",
    "boruta.re.imp.h<-Boruta(Price~.,data = re.imp.h,doTrace=2)\n",
    "print(boruta.re.imp.h)\n"
   ]
  },
  {
   "cell_type": "code",
   "execution_count": 15,
   "metadata": {},
   "outputs": [],
   "source": [
    "### removing months as per Boruta it is not important ###\n",
    "re.imp.h<-re.imp.h[,-c(16)] "
   ]
  },
  {
   "cell_type": "code",
   "execution_count": 16,
   "metadata": {},
   "outputs": [],
   "source": [
    "## Cforest to know the significance of each individual variable on price with Type \"h\" ##\n",
    "re.imp.h.rf<-party::cforest(Price~. ,data = re.imp.h, control=cforest_unbiased(mtry=14,ntree=200))"
   ]
  },
  {
   "cell_type": "code",
   "execution_count": 18,
   "metadata": {},
   "outputs": [
    {
     "name": "stdout",
     "output_type": "stream",
     "text": [
      "\n",
      "\t Random Forest using Conditional Inference Trees\n",
      "\n",
      "Number of trees:  200 \n",
      "\n",
      "Response:  Price \n",
      "Inputs:  Suburb, Rooms, Method, SellerG, Distance, Postcode, Bedroom2, Bathroom, Car, Landsize, BuildingArea, CouncilArea, Days.diff, Dist.bucket \n",
      "Number of observations:  6611 \n",
      "\n"
     ]
    }
   ],
   "source": [
    "print(re.imp.h.rf)"
   ]
  },
  {
   "cell_type": "code",
   "execution_count": 20,
   "metadata": {},
   "outputs": [],
   "source": [
    "write.table(impvars.re.h.imp, file = \"F:\\\\melb.realstate.all.files\\\\OutputDataSets\\\\ImpVarsForPriceWithoutYear.h.csv\",row.names=T, na=\"\",col.names=T, sep=\",\")\n"
   ]
  },
  {
   "cell_type": "code",
   "execution_count": 21,
   "metadata": {},
   "outputs": [
    {
     "name": "stderr",
     "output_type": "stream",
     "text": [
      " 1. run of importance source...\n",
      " 2. run of importance source...\n",
      " 3. run of importance source...\n",
      " 4. run of importance source...\n",
      " 5. run of importance source...\n",
      " 6. run of importance source...\n",
      " 7. run of importance source...\n",
      " 8. run of importance source...\n",
      " 9. run of importance source...\n",
      " 10. run of importance source...\n",
      " 11. run of importance source...\n",
      "After 11 iterations, +15 secs: \n",
      " confirmed 12 attributes: Bathroom, Bedroom2, BuildingArea, Car, CouncilArea and 7 more;\n",
      " rejected 1 attribute: Months;\n",
      " still have 2 attributes left.\n",
      "\n",
      " 12. run of importance source...\n",
      " 13. run of importance source...\n",
      " 14. run of importance source...\n",
      " 15. run of importance source...\n",
      " 16. run of importance source...\n",
      " 17. run of importance source...\n",
      " 18. run of importance source...\n",
      " 19. run of importance source...\n",
      " 20. run of importance source...\n",
      " 21. run of importance source...\n",
      " 22. run of importance source...\n",
      " 23. run of importance source...\n",
      " 24. run of importance source...\n",
      " 25. run of importance source...\n",
      " 26. run of importance source...\n",
      " 27. run of importance source...\n",
      " 28. run of importance source...\n",
      " 29. run of importance source...\n",
      " 30. run of importance source...\n",
      " 31. run of importance source...\n",
      " 32. run of importance source...\n",
      " 33. run of importance source...\n",
      " 34. run of importance source...\n",
      " 35. run of importance source...\n",
      " 36. run of importance source...\n",
      " 37. run of importance source...\n",
      " 38. run of importance source...\n",
      " 39. run of importance source...\n",
      " 40. run of importance source...\n",
      " 41. run of importance source...\n",
      " 42. run of importance source...\n",
      " 43. run of importance source...\n",
      " 44. run of importance source...\n",
      "After 44 iterations, +55 secs: \n",
      " rejected 1 attribute: Method;\n",
      " still have 1 attribute left.\n",
      "\n",
      " 45. run of importance source...\n",
      " 46. run of importance source...\n",
      " 47. run of importance source...\n",
      " 48. run of importance source...\n",
      " 49. run of importance source...\n",
      " 50. run of importance source...\n",
      " 51. run of importance source...\n",
      " 52. run of importance source...\n",
      " 53. run of importance source...\n",
      " 54. run of importance source...\n",
      " 55. run of importance source...\n",
      " 56. run of importance source...\n",
      " 57. run of importance source...\n",
      " 58. run of importance source...\n",
      " 59. run of importance source...\n",
      " 60. run of importance source...\n",
      " 61. run of importance source...\n",
      " 62. run of importance source...\n",
      " 63. run of importance source...\n",
      " 64. run of importance source...\n",
      " 65. run of importance source...\n",
      " 66. run of importance source...\n",
      " 67. run of importance source...\n",
      " 68. run of importance source...\n",
      " 69. run of importance source...\n",
      " 70. run of importance source...\n",
      " 71. run of importance source...\n",
      " 72. run of importance source...\n",
      " 73. run of importance source...\n",
      " 74. run of importance source...\n",
      " 75. run of importance source...\n",
      " 76. run of importance source...\n",
      " 77. run of importance source...\n",
      " 78. run of importance source...\n",
      " 79. run of importance source...\n",
      " 80. run of importance source...\n",
      " 81. run of importance source...\n",
      " 82. run of importance source...\n",
      " 83. run of importance source...\n",
      " 84. run of importance source...\n",
      " 85. run of importance source...\n",
      " 86. run of importance source...\n",
      " 87. run of importance source...\n",
      " 88. run of importance source...\n",
      " 89. run of importance source...\n",
      " 90. run of importance source...\n",
      " 91. run of importance source...\n",
      " 92. run of importance source...\n",
      " 93. run of importance source...\n",
      " 94. run of importance source...\n",
      " 95. run of importance source...\n",
      " 96. run of importance source...\n",
      " 97. run of importance source...\n",
      " 98. run of importance source...\n",
      " 99. run of importance source...\n"
     ]
    },
    {
     "name": "stdout",
     "output_type": "stream",
     "text": [
      "Boruta performed 99 iterations in 1.981737 mins.\n",
      " 12 attributes confirmed important: Bathroom, Bedroom2, BuildingArea,\n",
      "Car, CouncilArea and 7 more;\n",
      " 2 attributes confirmed unimportant: Method, Months;\n",
      " 1 tentative attributes left: Days.diff;\n"
     ]
    }
   ],
   "source": [
    "## Applying Boruta for Type T ##\n",
    "boruta.re.imp.t<-Boruta(Price~.,data = re.imp.t,doTrace=2)\n",
    "print(boruta.re.imp.t)"
   ]
  },
  {
   "cell_type": "code",
   "execution_count": 22,
   "metadata": {},
   "outputs": [
    {
     "name": "stdout",
     "output_type": "stream",
     "text": [
      "'data.frame':\t679 obs. of  16 variables:\n",
      " $ Suburb      : Factor w/ 140 levels \"Abbotsford\",\"Aberfeldie\",..: 3 3 3 3 3 3 6 7 7 7 ...\n",
      " $ Rooms       : Factor w/ 8 levels \"1\",\"2\",\"3\",\"4\",..: 3 3 2 3 3 3 2 2 3 3 ...\n",
      " $ Price       : int  840000 700000 450000 700000 540000 825000 805000 720000 800000 705000 ...\n",
      " $ Method      : Factor w/ 5 levels \"PI\",\"S\",\"SA\",..: 1 2 2 1 4 4 2 2 4 2 ...\n",
      " $ SellerG     : Factor w/ 178 levels \"Abercromby's\",..: 111 21 13 21 111 13 106 73 73 73 ...\n",
      " $ Distance    : num  13.5 13.5 13.5 13.5 13.5 13.5 6.4 13.8 13.8 13.8 ...\n",
      " $ Postcode    : int  3042 3042 3042 3042 3042 3042 3078 3018 3018 3018 ...\n",
      " $ Bedroom2    : Factor w/ 11 levels \"0\",\"1\",\"2\",\"3\",..: 4 4 3 4 3 4 3 3 4 4 ...\n",
      " $ Bathroom    : Factor w/ 9 levels \"0\",\"1\",\"2\",\"3\",..: 3 3 2 3 3 3 3 2 3 3 ...\n",
      " $ Car         : Factor w/ 9 levels \"0\",\"1\",\"2\",\"3\",..: 2 3 2 3 2 2 4 3 3 3 ...\n",
      " $ Landsize    : num  303 239 110 165 161 293 155 292 280 197 ...\n",
      " $ BuildingArea: num  225 134 90 133 101 102 140 125 139 152 ...\n",
      " $ CouncilArea : Factor w/ 19 levels \"Banyule\",\"Bayside\",..: 14 14 14 14 14 14 5 7 7 7 ...\n",
      " $ Days.diff   : int  246 428 127 288 169 323 316 34 281 407 ...\n",
      " $ Dist.bucket : Factor w/ 5 levels \"far\",\"medium\",..: 4 4 4 4 4 4 2 4 4 4 ...\n",
      " $ Months      : Factor w/ 15 levels \"Apr'16\",\"Apr'17\",..: 15 10 11 14 9 13 13 5 14 6 ...\n"
     ]
    }
   ],
   "source": [
    "str(re.imp.t)"
   ]
  },
  {
   "cell_type": "code",
   "execution_count": 23,
   "metadata": {},
   "outputs": [],
   "source": [
    "### As per Boruta Method and Months variables are not significant for T type, hence removing them ##\n",
    "re.imp.t<-re.imp.t[,-c(4,16)]"
   ]
  },
  {
   "cell_type": "code",
   "execution_count": 24,
   "metadata": {},
   "outputs": [],
   "source": [
    "## Cforest to know the significance of each individual variable on price with Type \"t\" ##\n",
    "re.imp.t.rf<-party::cforest(Price~. ,data = re.imp.t, control=cforest_unbiased(mtry=13,ntree=200))\n",
    "impvars.re.t.imp<-varImp(re.imp.t.rf)"
   ]
  },
  {
   "cell_type": "code",
   "execution_count": 25,
   "metadata": {},
   "outputs": [
    {
     "name": "stdout",
     "output_type": "stream",
     "text": [
      "                 Overall\n",
      "Suburb       76503813423\n",
      "Rooms         8022486291\n",
      "SellerG       2467955362\n",
      "Distance     10536475733\n",
      "Postcode      6389283175\n",
      "Bedroom2       373412757\n",
      "Bathroom     15178460693\n",
      "Car           1512444721\n",
      "Landsize      3241205721\n",
      "BuildingArea  6714920172\n",
      "CouncilArea  16550771153\n",
      "Days.diff      843111077\n",
      "Dist.bucket   1740784212\n"
     ]
    }
   ],
   "source": [
    "print(impvars.re.t.imp)"
   ]
  },
  {
   "cell_type": "code",
   "execution_count": 27,
   "metadata": {},
   "outputs": [],
   "source": [
    "\n",
    "write.table(impvars.re.t.imp, file = \"F:\\\\melb.realstate.all.files\\\\OutputDataSets\\\\ImpVarsForPriceWithoutYear.t.csv\",row.names=T, na=\"\",col.names=T, sep=\",\")"
   ]
  },
  {
   "cell_type": "code",
   "execution_count": 28,
   "metadata": {},
   "outputs": [
    {
     "name": "stderr",
     "output_type": "stream",
     "text": [
      " 1. run of importance source...\n",
      " 2. run of importance source...\n",
      " 3. run of importance source...\n",
      " 4. run of importance source...\n",
      " 5. run of importance source...\n",
      " 6. run of importance source...\n",
      " 7. run of importance source...\n",
      " 8. run of importance source...\n",
      " 9. run of importance source...\n",
      " 10. run of importance source...\n",
      " 11. run of importance source...\n",
      "After 11 iterations, +18 secs: \n",
      " confirmed 13 attributes: Bathroom, Bedroom2, BuildingArea, Car, CouncilArea and 8 more;\n",
      " rejected 1 attribute: Months;\n",
      " still have 1 attribute left.\n",
      "\n",
      " 12. run of importance source...\n",
      " 13. run of importance source...\n",
      " 14. run of importance source...\n",
      " 15. run of importance source...\n",
      " 16. run of importance source...\n",
      " 17. run of importance source...\n",
      " 18. run of importance source...\n",
      " 19. run of importance source...\n",
      " 20. run of importance source...\n",
      " 21. run of importance source...\n",
      " 22. run of importance source...\n",
      " 23. run of importance source...\n",
      " 24. run of importance source...\n",
      " 25. run of importance source...\n",
      " 26. run of importance source...\n",
      " 27. run of importance source...\n",
      " 28. run of importance source...\n",
      " 29. run of importance source...\n",
      " 30. run of importance source...\n",
      " 31. run of importance source...\n",
      " 32. run of importance source...\n",
      " 33. run of importance source...\n",
      " 34. run of importance source...\n",
      " 35. run of importance source...\n",
      " 36. run of importance source...\n",
      " 37. run of importance source...\n",
      " 38. run of importance source...\n",
      " 39. run of importance source...\n",
      " 40. run of importance source...\n",
      " 41. run of importance source...\n",
      " 42. run of importance source...\n",
      " 43. run of importance source...\n",
      " 44. run of importance source...\n",
      " 45. run of importance source...\n",
      " 46. run of importance source...\n",
      " 47. run of importance source...\n",
      " 48. run of importance source...\n",
      " 49. run of importance source...\n",
      " 50. run of importance source...\n",
      " 51. run of importance source...\n",
      " 52. run of importance source...\n",
      " 53. run of importance source...\n",
      " 54. run of importance source...\n",
      " 55. run of importance source...\n",
      " 56. run of importance source...\n",
      " 57. run of importance source...\n",
      " 58. run of importance source...\n",
      " 59. run of importance source...\n",
      " 60. run of importance source...\n",
      " 61. run of importance source...\n",
      " 62. run of importance source...\n",
      " 63. run of importance source...\n",
      " 64. run of importance source...\n",
      " 65. run of importance source...\n",
      " 66. run of importance source...\n",
      " 67. run of importance source...\n",
      " 68. run of importance source...\n",
      " 69. run of importance source...\n",
      " 70. run of importance source...\n",
      " 71. run of importance source...\n",
      " 72. run of importance source...\n",
      " 73. run of importance source...\n",
      " 74. run of importance source...\n",
      " 75. run of importance source...\n",
      " 76. run of importance source...\n",
      " 77. run of importance source...\n",
      " 78. run of importance source...\n",
      " 79. run of importance source...\n",
      " 80. run of importance source...\n",
      " 81. run of importance source...\n",
      " 82. run of importance source...\n",
      " 83. run of importance source...\n",
      " 84. run of importance source...\n",
      " 85. run of importance source...\n",
      " 86. run of importance source...\n",
      " 87. run of importance source...\n",
      " 88. run of importance source...\n",
      " 89. run of importance source...\n",
      " 90. run of importance source...\n",
      " 91. run of importance source...\n",
      " 92. run of importance source...\n",
      " 93. run of importance source...\n",
      " 94. run of importance source...\n",
      " 95. run of importance source...\n",
      " 96. run of importance source...\n",
      " 97. run of importance source...\n",
      " 98. run of importance source...\n",
      " 99. run of importance source...\n"
     ]
    },
    {
     "name": "stdout",
     "output_type": "stream",
     "text": [
      "Boruta performed 99 iterations in 2.620561 mins.\n",
      " 13 attributes confirmed important: Bathroom, Bedroom2, BuildingArea,\n",
      "Car, CouncilArea and 8 more;\n",
      " 1 attributes confirmed unimportant: Months;\n",
      " 1 tentative attributes left: Days.diff;\n"
     ]
    }
   ],
   "source": [
    "## Applying Boruta for Type U ##\n",
    "boruta.re.imp.u<-Boruta(Price~.,data = re.imp.u,doTrace=2)\n",
    "print(boruta.re.imp.u)\n"
   ]
  },
  {
   "cell_type": "code",
   "execution_count": 29,
   "metadata": {},
   "outputs": [],
   "source": [
    "### Deleting months as no it has no significance ###\n",
    "re.imp.u<-re.imp.u[,-c(16)]"
   ]
  },
  {
   "cell_type": "code",
   "execution_count": 30,
   "metadata": {},
   "outputs": [],
   "source": [
    "## Cforest to know the significance of each individual variable on price with Type \"u\" ##\n",
    "re.imp.u.rf<-party::cforest(Price~. ,data = re.imp.u, control=cforest_unbiased(mtry=14,ntree=200))\n",
    "impvars.re.u.imp<-varImp(re.imp.u.rf)"
   ]
  },
  {
   "cell_type": "code",
   "execution_count": 31,
   "metadata": {},
   "outputs": [
    {
     "name": "stdout",
     "output_type": "stream",
     "text": [
      "                 Overall\n",
      "Suburb         664361662\n",
      "Rooms        38003712048\n",
      "Method        1239604033\n",
      "SellerG       3328421410\n",
      "Distance      7739692058\n",
      "Postcode      5332008262\n",
      "Bedroom2      1267094700\n",
      "Bathroom      3605935633\n",
      "Car            854216380\n",
      "Landsize       943117507\n",
      "BuildingArea   941531420\n",
      "CouncilArea  14792503746\n",
      "Days.diff      -42849884\n",
      "Dist.bucket   2872526145\n"
     ]
    }
   ],
   "source": [
    "print(impvars.re.u.imp)"
   ]
  },
  {
   "cell_type": "code",
   "execution_count": 32,
   "metadata": {},
   "outputs": [],
   "source": [
    "write.table(impvars.re.u.imp, file = \"F:\\\\melb.realstate.all.files\\\\OutputDataSets\\\\ImpVarsForPriceWithoutYear.u.csv\",row.names=T, na=\"\",col.names=T, sep=\",\")\n"
   ]
  },
  {
   "cell_type": "code",
   "execution_count": null,
   "metadata": {},
   "outputs": [],
   "source": []
  }
 ],
 "metadata": {
  "kernelspec": {
   "display_name": "R",
   "language": "R",
   "name": "ir"
  },
  "language_info": {
   "codemirror_mode": "r",
   "file_extension": ".r",
   "mimetype": "text/x-r-source",
   "name": "R",
   "pygments_lexer": "r",
   "version": "3.5.1"
  }
 },
 "nbformat": 4,
 "nbformat_minor": 2
}
